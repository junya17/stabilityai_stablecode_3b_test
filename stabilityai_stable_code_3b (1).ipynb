{
  "nbformat": 4,
  "nbformat_minor": 0,
  "metadata": {
    "colab": {
      "provenance": [],
      "machine_shape": "hm",
      "gpuType": "A100"
    },
    "kernelspec": {
      "name": "python3",
      "display_name": "Python 3"
    },
    "language_info": {
      "name": "python"
    },
    "accelerator": "GPU"
  },
  "cells": [
    {
      "cell_type": "code",
      "source": [
        "!pip install --upgrade transformers"
      ],
      "metadata": {
        "id": "fJK0yyygZu4B"
      },
      "execution_count": null,
      "outputs": []
    },
    {
      "cell_type": "code",
      "execution_count": null,
      "metadata": {
        "id": "oq9CBKINZBb8"
      },
      "outputs": [],
      "source": [
        "import torch\n",
        "from transformers import AutoModelForCausalLM, AutoTokenizer\n",
        "tokenizer = AutoTokenizer.from_pretrained(\"stabilityai/stable-code-3b\", trust_remote_code=True)\n",
        "model = AutoModelForCausalLM.from_pretrained(\n",
        "  \"stabilityai/stable-code-3b\",\n",
        "  trust_remote_code=True,\n",
        "  torch_dtype=\"auto\",\n",
        ")\n",
        "model.cuda()\n",
        "inputs = tokenizer(\"How to read a file in Python\", return_tensors=\"pt\").to(model.device)\n",
        "tokens = model.generate(\n",
        "  **inputs,\n",
        "  max_new_tokens=100,\n",
        "  temperature=0.2,\n",
        "  do_sample=True,\n",
        ")\n",
        "print(tokenizer.decode(tokens[0], skip_special_tokens=True))\n"
      ]
    },
    {
      "cell_type": "code",
      "source": [
        "!pip install gradio"
      ],
      "metadata": {
        "id": "xuT5aFCUhh6F"
      },
      "execution_count": null,
      "outputs": []
    },
    {
      "cell_type": "code",
      "source": [
        "import gradio as gr\n",
        "\n",
        "def generate_code(prompt):\n",
        "    inputs = tokenizer(prompt, return_tensors=\"pt\").to(model.device)\n",
        "    tokens = model.generate(\n",
        "        **inputs,\n",
        "        max_new_tokens=1000,\n",
        "        temperature=0.2,\n",
        "        do_sample=True,\n",
        "    )\n",
        "    return tokenizer.decode(tokens[0], skip_special_tokens=True)\n",
        "\n",
        "iface = gr.Interface(\n",
        "    fn=generate_code,\n",
        "    inputs=\"text\",\n",
        "    outputs=\"text\",\n",
        "    title=\"Code Generator using stabilityai/stable-code-3b\"\n",
        ")\n",
        "\n",
        "iface.launch()\n"
      ],
      "metadata": {
        "id": "ISf7C-EChipV"
      },
      "execution_count": null,
      "outputs": []
    }
  ]
}